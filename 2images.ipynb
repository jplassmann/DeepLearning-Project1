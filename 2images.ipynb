{
 "cells": [
  {
   "cell_type": "code",
   "execution_count": 41,
   "metadata": {},
   "outputs": [],
   "source": [
    "import torch\n",
    "\n",
    "from torch import nn\n",
    "from torch.nn import functional as F\n",
    "from torch import optim\n",
    "from torchvision import datasets\n",
    "\n",
    "import dlc_practical_prologue as prologue\n",
    "import matplotlib.pyplot as plt\n",
    "import numpy as np"
   ]
  },
  {
   "cell_type": "markdown",
   "metadata": {},
   "source": [
    "# Get the dataset"
   ]
  },
  {
   "cell_type": "code",
   "execution_count": 42,
   "metadata": {},
   "outputs": [
    {
     "name": "stdout",
     "output_type": "stream",
     "text": [
      "* Using MNIST\n",
      "** Reduce the data-set (use --full for the full thing)\n",
      "** Use 1000 train and 1000 test samples\n",
      "train_input torch.Size([1000, 1, 28, 28]) train_target torch.Size([1000, 10])\n",
      "test_input torch.Size([1000, 1, 28, 28]) test_target torch.Size([1000, 10])\n"
     ]
    }
   ],
   "source": [
    "train_input, train_target, test_input, test_target  = prologue.load_data(cifar=False, one_hot_labels=True,\n",
    "                                                                         normalize=False, flatten=False)\n",
    "print('train_input', train_input.size(), 'train_target', train_target.size())\n",
    "print('test_input', test_input.size(), 'test_target', test_target.size())"
   ]
  },
  {
   "cell_type": "markdown",
   "metadata": {},
   "source": [
    "# Model"
   ]
  },
  {
   "cell_type": "code",
   "execution_count": 43,
   "metadata": {},
   "outputs": [],
   "source": [
    "class Net(nn.Module):\n",
    "    def __init__(self):\n",
    "        super(Net, self).__init__()\n",
    "        self.conv1 = nn.Conv2d(1, 6, 5)\n",
    "        self.conv2 = nn.Conv2d(6, 16, 5)\n",
    "        self.fc1 = nn.Linear(16*4*4*2, 120)\n",
    "        self.fc2 = nn.Linear(120, 84)\n",
    "        self.fc3 = nn.Linear(84, 10)\n",
    "        self.fc4 = nn.Linear(10, 2)\n",
    "        self.MaxPool2d = nn.MaxPool2d(2, stride=2)\n",
    "        \n",
    "        \n",
    "    def forward(self, x, y):\n",
    "        x = self.MaxPool2d(F.relu(self.conv1(x)))\n",
    "        x = self.MaxPool2d(F.relu(self.conv2(x)))\n",
    "        x = x.view(x.size(0), -1)\n",
    "        y = self.MaxPool2d(F.relu(self.conv1(y)))\n",
    "        y = self.MaxPool2d(F.relu(self.conv2(y)))\n",
    "        y = y.view(y.size(0), -1)\n",
    "        z = torch.cat((x,y), 1)\n",
    "        z = self.fc1(z)\n",
    "        z = self.fc2(z)\n",
    "        z = self.fc3(z)\n",
    "        z = self.fc4(z)\n",
    "        return z"
   ]
  },
  {
   "cell_type": "markdown",
   "metadata": {},
   "source": [
    "# Training"
   ]
  },
  {
   "cell_type": "code",
   "execution_count": 44,
   "metadata": {},
   "outputs": [],
   "source": [
    "def compute_nb_errors(model, data_input, data_target):\n",
    "    nb_data_errors = 0\n",
    "    \n",
    "    for b in range(1, train_input.size(0)-batch_size+1, batch_size):\n",
    "        output = model(data_input.narrow(0, b, batch_size), data_input.narrow(0, b-1, batch_size))\n",
    "        _, predicted_label = torch.max(output, 1)\n",
    "        for k in range(batch_size):\n",
    "            true_label = 1\n",
    "            if data_target[b+k].argmax() > data_target[b+k-1].argmax():\n",
    "                true_label = 0\n",
    "            if predicted_label[k] != true_label:\n",
    "                nb_data_errors = nb_data_errors + 1\n",
    "    \n",
    "    return nb_data_errors"
   ]
  },
  {
   "cell_type": "code",
   "execution_count": 63,
   "metadata": {},
   "outputs": [],
   "source": [
    "batch_size = 50\n",
    "eta = 0.01\n",
    "epochs = 250\n",
    "def train_model(model, train_input, train_target, test_input, test_target):\n",
    "    \n",
    "    criterion = nn.CrossEntropyLoss()\n",
    "    optimizer = optim.SGD(model.parameters(), lr=eta)\n",
    "    \n",
    "    for i in range(epochs):\n",
    "        batch_1 = np.arange(1000)\n",
    "        batch_2 = np.arange(1000)\n",
    "        np.random.shuffle(batch_1)\n",
    "        np.random.shuffle(batch_2)\n",
    "        #for b in range(0, train_input.size(0), batch_size):\n",
    "        #    for c in range(0, train_input.size(0), batch_size):\n",
    "                #output = model(train_input.narrow(0, b, batch_size), train_input.narrow(0, c, batch_size))\n",
    "        output = model(train_input[batch_1[:50]], train_input[batch_2[:50]])\n",
    "        true_labels = torch.full((output.size(0),), 0)\n",
    "        #        true_labels[train_target.narrow(0, b, batch_size).argmax(1) > train_target.narrow(0, c, batch_size).argmax(1)] = 1\n",
    "        true_labels[train_target[batch_1[:50]].argmax(1) > train_target[batch_2[:50]].argmax(1)] = 1\n",
    "        loss = criterion(output, true_labels.long())\n",
    "        optimizer.zero_grad()\n",
    "        loss.backward()\n",
    "        optimizer.step()\n",
    "     \n",
    "        if i%10 == 0:\n",
    "            print(loss)   \n",
    "            test_accuracy = compute_nb_errors(model, test_input, test_target)\n",
    "            print(\"Epoch #\", i, \" test accuracy: \", test_accuracy/test_input.size(0))"
   ]
  },
  {
   "cell_type": "code",
   "execution_count": 64,
   "metadata": {},
   "outputs": [
    {
     "name": "stdout",
     "output_type": "stream",
     "text": [
      "tensor(0.8792, grad_fn=<NllLossBackward>)\n",
      "Epoch # 0  test accuracy:  0.529\n",
      "tensor(0.6371, grad_fn=<NllLossBackward>)\n",
      "Epoch # 10  test accuracy:  0.527\n",
      "tensor(0.6684, grad_fn=<NllLossBackward>)\n",
      "Epoch # 20  test accuracy:  0.577\n",
      "tensor(0.6652, grad_fn=<NllLossBackward>)\n",
      "Epoch # 30  test accuracy:  0.657\n",
      "tensor(0.5933, grad_fn=<NllLossBackward>)\n",
      "Epoch # 40  test accuracy:  0.705\n",
      "tensor(0.4975, grad_fn=<NllLossBackward>)\n",
      "Epoch # 50  test accuracy:  0.483\n",
      "tensor(0.5180, grad_fn=<NllLossBackward>)\n",
      "Epoch # 60  test accuracy:  0.733\n",
      "tensor(0.4773, grad_fn=<NllLossBackward>)\n",
      "Epoch # 70  test accuracy:  0.689\n",
      "tensor(0.4769, grad_fn=<NllLossBackward>)\n",
      "Epoch # 80  test accuracy:  0.757\n",
      "tensor(0.4456, grad_fn=<NllLossBackward>)\n",
      "Epoch # 90  test accuracy:  0.742\n",
      "tensor(0.4505, grad_fn=<NllLossBackward>)\n",
      "Epoch # 100  test accuracy:  0.754\n",
      "tensor(0.3094, grad_fn=<NllLossBackward>)\n",
      "Epoch # 110  test accuracy:  0.757\n",
      "tensor(0.3875, grad_fn=<NllLossBackward>)\n",
      "Epoch # 120  test accuracy:  0.773\n",
      "tensor(0.4326, grad_fn=<NllLossBackward>)\n",
      "Epoch # 130  test accuracy:  0.743\n",
      "tensor(0.5283, grad_fn=<NllLossBackward>)\n",
      "Epoch # 140  test accuracy:  0.761\n",
      "tensor(0.4521, grad_fn=<NllLossBackward>)\n",
      "Epoch # 150  test accuracy:  0.774\n",
      "tensor(0.3364, grad_fn=<NllLossBackward>)\n",
      "Epoch # 160  test accuracy:  0.774\n",
      "tensor(0.3779, grad_fn=<NllLossBackward>)\n",
      "Epoch # 170  test accuracy:  0.782\n",
      "tensor(0.3611, grad_fn=<NllLossBackward>)\n",
      "Epoch # 180  test accuracy:  0.768\n",
      "tensor(0.3842, grad_fn=<NllLossBackward>)\n",
      "Epoch # 190  test accuracy:  0.768\n",
      "tensor(0.3703, grad_fn=<NllLossBackward>)\n",
      "Epoch # 200  test accuracy:  0.78\n",
      "tensor(0.3727, grad_fn=<NllLossBackward>)\n",
      "Epoch # 210  test accuracy:  0.766\n",
      "tensor(0.4753, grad_fn=<NllLossBackward>)\n",
      "Epoch # 220  test accuracy:  0.757\n",
      "tensor(0.2394, grad_fn=<NllLossBackward>)\n",
      "Epoch # 230  test accuracy:  0.79\n",
      "tensor(0.3704, grad_fn=<NllLossBackward>)\n",
      "Epoch # 240  test accuracy:  0.77\n"
     ]
    }
   ],
   "source": [
    "net = Net()\n",
    "train_model(net, train_input, train_target, test_input, test_target)"
   ]
  },
  {
   "cell_type": "code",
   "execution_count": 59,
   "metadata": {},
   "outputs": [
    {
     "data": {
      "image/png": "[encoded data removed]",
      "text/plain": [
       "<Figure size 432x288 with 2 Axes>"
      ]
     },
     "metadata": {},
     "output_type": "display_data"
    },
    {
     "name": "stdout",
     "output_type": "stream",
     "text": [
      "tensor(1)\n"
     ]
    },
    {
     "data": {
      "image/png": "[encoded data removed]",
      "text/plain": [
       "<Figure size 432x288 with 2 Axes>"
      ]
     },
     "metadata": {},
     "output_type": "display_data"
    },
    {
     "name": "stdout",
     "output_type": "stream",
     "text": [
      "tensor(0)\n"
     ]
    },
    {
     "data": {
      "image/png": "[encoded data removed]",
      "text/plain": [
       "<Figure size 432x288 with 2 Axes>"
      ]
     },
     "metadata": {},
     "output_type": "display_data"
    },
    {
     "name": "stdout",
     "output_type": "stream",
     "text": [
      "tensor(0)\n"
     ]
    },
    {
     "data": {
      "image/png": "[encoded data removed]",
      "text/plain": [
       "<Figure size 432x288 with 2 Axes>"
      ]
     },
     "metadata": {},
     "output_type": "display_data"
    },
    {
     "name": "stdout",
     "output_type": "stream",
     "text": [
      "tensor(0)\n"
     ]
    },
    {
     "data": {
      "image/png": "[encoded data removed]",
      "text/plain": [
       "<Figure size 432x288 with 2 Axes>"
      ]
     },
     "metadata": {},
     "output_type": "display_data"
    },
    {
     "name": "stdout",
     "output_type": "stream",
     "text": [
      "tensor(1)\n"
     ]
    },
    {
     "data": {
      "image/png": "[encoded data removed]",
      "text/plain": [
       "<Figure size 432x288 with 2 Axes>"
      ]
     },
     "metadata": {},
     "output_type": "display_data"
    },
    {
     "name": "stdout",
     "output_type": "stream",
     "text": [
      "tensor(0)\n"
     ]
    },
    {
     "data": {
      "image/png": "[encoded data removed]",
      "text/plain": [
       "<Figure size 432x288 with 2 Axes>"
      ]
     },
     "metadata": {},
     "output_type": "display_data"
    },
    {
     "name": "stdout",
     "output_type": "stream",
     "text": [
      "tensor(0)\n"
     ]
    },
    {
     "data": {
      "image/png": "[encoded data removed]",
      "text/plain": [
       "<Figure size 432x288 with 2 Axes>"
      ]
     },
     "metadata": {},
     "output_type": "display_data"
    },
    {
     "name": "stdout",
     "output_type": "stream",
     "text": [
      "tensor(1)\n"
     ]
    },
    {
     "data": {
      "image/png": "[encoded data removed]",
      "text/plain": [
       "<Figure size 432x288 with 2 Axes>"
      ]
     },
     "metadata": {},
     "output_type": "display_data"
    },
    {
     "name": "stdout",
     "output_type": "stream",
     "text": [
      "tensor(0)\n"
     ]
    },
    {
     "data": {
      "image/png": "[encoded data removed]",
      "text/plain": [
       "<Figure size 432x288 with 2 Axes>"
      ]
     },
     "metadata": {},
     "output_type": "display_data"
    },
    {
     "name": "stdout",
     "output_type": "stream",
     "text": [
      "tensor(1)\n"
     ]
    },
    {
     "data": {
      "image/png": "[encoded data removed]",
      "text/plain": [
       "<Figure size 432x288 with 2 Axes>"
      ]
     },
     "metadata": {},
     "output_type": "display_data"
    },
    {
     "name": "stdout",
     "output_type": "stream",
     "text": [
      "tensor(0)\n"
     ]
    },
    {
     "data": {
      "image/png": "[encoded data removed]",
      "text/plain": [
       "<Figure size 432x288 with 2 Axes>"
      ]
     },
     "metadata": {},
     "output_type": "display_data"
    },
    {
     "name": "stdout",
     "output_type": "stream",
     "text": [
      "tensor(0)\n"
     ]
    },
    {
     "data": {
      "image/png": "[encoded data removed]",
      "text/plain": [
       "<Figure size 432x288 with 2 Axes>"
      ]
     },
     "metadata": {},
     "output_type": "display_data"
    },
    {
     "name": "stdout",
     "output_type": "stream",
     "text": [
      "tensor(1)\n"
     ]
    },
    {
     "data": {
      "image/png": "[encoded data removed]",
      "text/plain": [
       "<Figure size 432x288 with 2 Axes>"
      ]
     },
     "metadata": {},
     "output_type": "display_data"
    },
    {
     "name": "stdout",
     "output_type": "stream",
     "text": [
      "tensor(0)\n"
     ]
    },
    {
     "data": {
      "image/png": "[encoded data removed]",
      "text/plain": [
       "<Figure size 432x288 with 2 Axes>"
      ]
     },
     "metadata": {},
     "output_type": "display_data"
    },
    {
     "name": "stdout",
     "output_type": "stream",
     "text": [
      "tensor(0)\n"
     ]
    },
    {
     "data": {
      "image/png": "[encoded data removed]",
      "text/plain": [
       "<Figure size 432x288 with 2 Axes>"
      ]
     },
     "metadata": {},
     "output_type": "display_data"
    },
    {
     "name": "stdout",
     "output_type": "stream",
     "text": [
      "tensor(0)\n"
     ]
    },
    {
     "data": {
      "image/png": "[encoded data removed]",
      "text/plain": [
       "<Figure size 432x288 with 2 Axes>"
      ]
     },
     "metadata": {},
     "output_type": "display_data"
    },
    {
     "name": "stdout",
     "output_type": "stream",
     "text": [
      "tensor(1)\n"
     ]
    },
    {
     "data": {
      "image/png": "[encoded data removed]",
      "text/plain": [
       "<Figure size 432x288 with 2 Axes>"
      ]
     },
     "metadata": {},
     "output_type": "display_data"
    },
    {
     "name": "stdout",
     "output_type": "stream",
     "text": [
      "tensor(1)\n"
     ]
    },
    {
     "data": {
      "image/png": "[encoded data removed]",
      "text/plain": [
       "<Figure size 432x288 with 2 Axes>"
      ]
     },
     "metadata": {},
     "output_type": "display_data"
    },
    {
     "name": "stdout",
     "output_type": "stream",
     "text": [
      "tensor(0)\n"
     ]
    },
    {
     "data": {
      "image/png": "[encoded data removed]",
      "text/plain": [
       "<Figure size 432x288 with 2 Axes>"
      ]
     },
     "metadata": {},
     "output_type": "display_data"
    },
    {
     "name": "stdout",
     "output_type": "stream",
     "text": [
      "tensor(0)\n"
     ]
    }
   ],
   "source": [
    "res = net(test_input[0:20], test_input[1:21]).argmax(1)\n",
    "for i in range(0, 20):\n",
    "    plt.subplot(121),plt.imshow(test_input[i].view(28,28)),plt.title('Original')\n",
    "    plt.xticks([]), plt.yticks([])\n",
    "    plt.subplot(122),plt.imshow(test_input[i+1].view(28,28)),plt.title('gradient')\n",
    "    plt.xticks([]), plt.yticks([])\n",
    "    plt.show()\n",
    "    print(res[i])"
   ]
  },
  {
   "cell_type": "code",
   "execution_count": 40,
   "metadata": {},
   "outputs": [
    {
     "data": {
      "text/plain": [
       "tensor([7, 1, 9, 1, 2, 9, 5, 7, 7, 9, 7, 0, 6, 8, 1, 3, 7, 5, 2, 7, 1, 5, 2, 7,\n",
       "        0, 2, 4, 4, 2, 3, 9, 7, 1, 1, 5, 7, 1, 0, 0, 1, 5, 0, 3, 6, 7, 5, 2, 3,\n",
       "        7, 6, 8, 6, 3, 2, 5, 1, 0, 7, 3, 9, 5, 3, 0, 3, 9, 6, 4, 5, 0, 4, 0, 9,\n",
       "        0, 0, 0, 3, 1, 9, 7, 1, 8, 9, 8, 1, 5, 8, 4, 1, 4, 2, 9, 4, 8, 1, 8, 0,\n",
       "        6, 6, 7, 5])"
      ]
     },
     "execution_count": 40,
     "metadata": {},
     "output_type": "execute_result"
    }
   ],
   "source": [
    "arr = np.arange(1000)\n",
    "np.random.shuffle(arr)\n",
    "train_target[arr[:100]].argmax(1)"
   ]
  },
  {
   "cell_type": "code",
   "execution_count": null,
   "metadata": {},
   "outputs": [],
   "source": []
  }
 ],
 "metadata": {
  "kernelspec": {
   "display_name": "Python 3",
   "language": "python",
   "name": "python3"
  },
  "language_info": {
   "codemirror_mode": {
    "name": "ipython",
    "version": 3
   },
   "file_extension": ".py",
   "mimetype": "text/x-python",
   "name": "python",
   "nbconvert_exporter": "python",
   "pygments_lexer": "ipython3",
   "version": "3.7.6"
  }
 },
 "nbformat": 4,
 "nbformat_minor": 4
}
